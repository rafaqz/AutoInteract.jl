{
 "cells": [
  {
   "cell_type": "markdown",
   "metadata": {},
   "source": [
    "## DEB Plant Model Visualisation"
   ]
  },
  {
   "cell_type": "code",
   "execution_count": 1,
   "metadata": {},
   "outputs": [
    {
     "data": {
      "text/html": [
       "<style>\n",
       "\n",
       ".jupyter-button {\n",
       "    padding: 0;\n",
       "}\n",
       "    \n",
       ".widget-button, .widget-toggle-button {\n",
       "    width: 80px;\n",
       "    height: 23px;\n",
       "}\n",
       "    \n",
       ".widget-hslider {\n",
       "    width: 250px;\n",
       "    height: 18px;\n",
       "    line-height: 18px;\n",
       "}    \n",
       "    \n",
       ".widget-inline-hbox .widget-label {\n",
       "    margin-right: 4px;\n",
       "    max-width: 148px;\n",
       "    min-width: 40px;\n",
       "}\n",
       "    \n",
       ".prompt {\n",
       "    min-width: 0ex;\n",
       "}\n",
       ".container { width:100% !important; }\n",
       "\n",
       "</style>"
      ],
      "text/plain": [
       "HTML{String}(\"<style>\\n\\n.jupyter-button {\\n    padding: 0;\\n}\\n    \\n.widget-button, .widget-toggle-button {\\n    width: 80px;\\n    height: 23px;\\n}\\n    \\n.widget-hslider {\\n    width: 250px;\\n    height: 18px;\\n    line-height: 18px;\\n}    \\n    \\n.widget-inline-hbox .widget-label {\\n    margin-right: 4px;\\n    max-width: 148px;\\n    min-width: 40px;\\n}\\n    \\n.prompt {\\n    min-width: 0ex;\\n}\\n.container { width:100% !important; }\\n\\n</style>\")"
      ]
     },
     "execution_count": 1,
     "metadata": {},
     "output_type": "execute_result"
    }
   ],
   "source": [
    "# Styling\n",
    "HTML(\"<style>\n",
    "\n",
    ".jupyter-button {\n",
    "    padding: 0;\n",
    "}\n",
    "    \n",
    ".widget-button, .widget-toggle-button {\n",
    "    width: 80px;\n",
    "    height: 23px;\n",
    "}\n",
    "    \n",
    ".widget-hslider {\n",
    "    width: 250px;\n",
    "    height: 18px;\n",
    "    line-height: 18px;\n",
    "}    \n",
    "    \n",
    ".widget-inline-hbox .widget-label {\n",
    "    margin-right: 4px;\n",
    "    max-width: 148px;\n",
    "    min-width: 40px;\n",
    "}\n",
    "    \n",
    ".prompt {\n",
    "    min-width: 0ex;\n",
    "}\n",
    ".container { width:100% !important; }\n",
    "\n",
    "</style>\")"
   ]
  },
  {
   "cell_type": "code",
   "execution_count": null,
   "metadata": {
    "scrolled": false
   },
   "outputs": [
    {
     "data": {
      "text/html": [
       "<div id=\"interact-js-shim\">\n",
       "    <script charset=\"utf-8\">\n",
       "(function (IPython, $, _, MathJax) {\n",
       "    $.event.special.destroyed = {\n",
       "\tremove: function(o) {\n",
       "\t    if (o.handler) {\n",
       "\t\to.handler.apply(this, arguments)\n",
       "\t    }\n",
       "\t}\n",
       "    }\n",
       "\n",
       "    var OutputArea = IPython.version >= \"4.0.0\" ? require(\"notebook/js/outputarea\").OutputArea : IPython.OutputArea;\n",
       "\n",
       "    var redrawValue = function (container, type, val) {\n",
       "\tvar selector = $(\"<div/>\");\n",
       "\tvar oa = new OutputArea(_.extend(selector, {\n",
       "\t    selector: selector,\n",
       "\t    prompt_area: true,\n",
       "\t    events: IPython.events,\n",
       "\t    keyboard_manager: IPython.keyboard_manager\n",
       "\t})); // Hack to work with IPython 2.1.0\n",
       "\n",
       "\tswitch (type) {\n",
       "\tcase \"image/png\":\n",
       "            var _src = 'data:' + type + ';base64,' + val;\n",
       "\t    $(container).find(\"img\").attr('src', _src);\n",
       "\t    break;\n",
       "\tcase \"text/latex\":\n",
       "\t\tif (MathJax){\n",
       "\t\t\tvar math = MathJax.Hub.getAllJax(container)[0];\n",
       "\t\t\tMathJax.Hub.Queue([\"Text\", math, val.replace(/^\\${1,2}|\\${1,2}$/g, '')]);\n",
       "\t\t\tbreak;\n",
       "\t\t}\n",
       "\tdefault:\n",
       "\t    var toinsert = OutputArea.append_map[type].apply(\n",
       "\t\toa, [val, {}, selector]\n",
       "\t    );\n",
       "\t    $(container).empty().append(toinsert.contents());\n",
       "\t    selector.remove();\n",
       "\t}\n",
       "    }\n",
       "\n",
       "\n",
       "    $(document).ready(function() {\n",
       "\tfunction initComm(evt, data) {\n",
       "\t    var comm_manager = data.kernel.comm_manager;\n",
       "        //_.extend(comm_manager.targets, require(\"widgets/js/widget\"))\n",
       "\t    comm_manager.register_target(\"Signal\", function (comm) {\n",
       "            comm.on_msg(function (msg) {\n",
       "                var val = msg.content.data.value;\n",
       "                $(\".signal-\" + comm.comm_id).each(function() {\n",
       "                var type = $(this).data(\"type\");\n",
       "                if (typeof(val[type]) !== \"undefined\" && val[type] !== null) {\n",
       "                    redrawValue(this, type, val[type], type);\n",
       "                }\n",
       "                });\n",
       "                delete val;\n",
       "                delete msg.content.data.value;\n",
       "            });\n",
       "\t    });\n",
       "\n",
       "\t    // coordingate with Comm and redraw Signals\n",
       "\t    // XXX: Test using Reactive here to improve performance\n",
       "\t    $([IPython.events]).on(\n",
       "\t\t'output_appended.OutputArea', function (event, type, value, md, toinsert) {\n",
       "\t\t    if (md && md.reactive) {\n",
       "                // console.log(md.comm_id);\n",
       "                toinsert.addClass(\"signal-\" + md.comm_id);\n",
       "                toinsert.data(\"type\", type);\n",
       "                // Signal back indicating the mimetype required\n",
       "                var comm_manager = IPython.notebook.kernel.comm_manager;\n",
       "                var comm = comm_manager.comms[md.comm_id];\n",
       "                comm.then(function (c) {\n",
       "                    c.send({action: \"subscribe_mime\",\n",
       "                       mime: type});\n",
       "                    toinsert.bind(\"destroyed\", function() {\n",
       "                        c.send({action: \"unsubscribe_mime\",\n",
       "                               mime: type});\n",
       "                    });\n",
       "                })\n",
       "\t\t    }\n",
       "\t    });\n",
       "\t}\n",
       "\n",
       "\ttry {\n",
       "\t    // try to initialize right away. otherwise, wait on the status_started event.\n",
       "\t    initComm(undefined, IPython.notebook);\n",
       "\t} catch (e) {\n",
       "\t    $([IPython.events]).on('kernel_created.Kernel kernel_created.Session', initComm);\n",
       "\t}\n",
       "    });\n",
       "})(IPython, jQuery, _, MathJax);\n",
       "</script>\n",
       "    <script>\n",
       "        window.interactLoadedFlag = true\n",
       "       $(\"#interact-js-shim\").bind(\"destroyed\", function () {\n",
       "           if (window.interactLoadedFlag) {\n",
       "               console.warn(\"JavaScript required by Interact will be removed if you remove this cell or run using Interact more than once.\")\n",
       "           }\n",
       "       })\n",
       "       $([IPython.events]).on(\"kernel_starting.Kernel kernel_restarting.Kernel\", function () { window.interactLoadedFlag = false })\n",
       "   </script>\n",
       "</div>"
      ]
     },
     "metadata": {},
     "output_type": "display_data"
    }
   ],
   "source": [
    "# Load libraries and code\n",
    "using Revise\n",
    "using Reactive, Interact, Plots, Colors\n",
    "using DynamicEnergyBudgets\n",
    "using MechanisticModels\n",
    "using AutoInteract\n",
    "include(\"../../DynamicEnergyBudgets/src/settings.jl\")\n",
    "gr()"
   ]
  },
  {
   "cell_type": "markdown",
   "metadata": {},
   "source": [
    "### Parameter Loader\n",
    "\n",
    "Choose if NicheMapR is loaded and set location"
   ]
  },
  {
   "cell_type": "code",
   "execution_count": null,
   "metadata": {
    "scrolled": true
   },
   "outputs": [],
   "source": [
    "tspan = (0.0, 1000.0)\n",
    "use_environment = true\n",
    "if !isdefined(:environment)\n",
    "  if use_environment\n",
    "    environment = DynamicEnergyBudgets.load_nichemap(\"monbulk, vic\", 1)\n",
    "  else\n",
    "    environment = []\n",
    "  end\n",
    "end\n",
    "settings = build_settings(tspan; environment = environment, use_environment = use_environment, save_intermediate = true)"
   ]
  },
  {
   "cell_type": "markdown",
   "metadata": {},
   "source": [
    "### Plot controls\n",
    "\n",
    "Individual flows can be chosen and plotted from the large button grid. Many combinations in the matrix are not actually used, but for simplicity the grid is built automatically for everything. You can choose a plotting output backend (plotly/gr etc) for speed or zoom functionality or to get around bugs. Subplots can be selected individually - metabolic rates, temperature, light. The arrhenius and area-mass functions will show if you include sliders to control them. State lines that are displayed can be removed, and initial state molar weight can be set with sliders\n",
    "\n",
    "*After a while something will probably break! Relaod the cell below, or restart te notebook*\n"
   ]
  },
  {
   "cell_type": "code",
   "execution_count": 11,
   "metadata": {
    "scrolled": false
   },
   "outputs": [
    {
     "ename": "LoadError",
     "evalue": "\u001b[91mUndefVarError: plottable not defined\u001b[39m",
     "output_type": "error",
     "traceback": [
      "\u001b[91mUndefVarError: plottable not defined\u001b[39m",
      ""
     ]
    }
   ],
   "source": [
    "widgets = deb_widgets(settings)\n",
    "\n",
    "signals = AutoInteract.get_signals(widgets)\n",
    "interface = AutoInteract.make_interface(widgets; box = vbox)\n",
    "#display(interface)\n",
    "nothing\n",
    "\n",
    "# Fluxes in the matrix that are actually used\n",
    "# ┏━━━━┳━━━━━━━━━━━━━━━━━━━━━━━━━━━━━━━━━━━━━━━━━━━━━━━━━━━━━━━━━━━━━━━━━━━━━━━━━━━━━┳━━━━━━━━━━━━━━━━━━━━━━━━━━━━━━━━━━━━━━━━━━━━━━━━━━━━━━━━━━━━━━━━━━━━━━━┓\n",
    "# ┃    ┃ assS       │ groS       │ maiS       │ repS       │ rejS       │ traS       ┃ assR       │ groR       │ maiR       │ repR │ rejR       │ traR       ┃\n",
    "# ┣━━━━╋━━━━━━━━━━━━━━━━━━━━━━━━━━━━━━━━━━━━━━━━━━━━━━━━━━━━━━━━━━━━━━━━━━━━━━━━━━━━━╋━━━━━━━━━━━━━━━━━━━━━━━━━━━━━━━━━━━━━━━━━━━━━━━━━━━━━━━━━━━━━━━━━━━━━━━┫\n",
    "# ┃    ┃ JSS SubArray                                                                ┃ JRR SubArray                                                          ┃\n",
    "# ┃    ┃                                                                             ┃                                                                       ┃\n",
    "# ┃PS  ┃ 0          │ J_PS,groS  │ J_PS,maiS  │ 0          │ 0          │ 0          ┃ 0          │ J_PR,groR  │ J_PR,maiR  │ 0    │ 0          │ 0          ┃\n",
    "# ┃VS  ┃ 0          │ J_VS,groS  │ 0          │ 0          │ 0          │ 0          ┃ 0          │ J_VR,groR  │ 0          │ 0    │ 0          │ 0          ┃\n",
    "# ┃RS  ┃ 0          │ 0          │ 0          │ J_MS,groS  │ 0          │ 0          ┃ 0          │ 0          │ 0          │ 0    │ 0          │ 0          ┃\n",
    "# ┃ECS ┃ J_ECS,assS │ J_ECS,groS │ J_ECS,maiS │ J_ECS,repS │ J_ECS,rejS │ J_ECS,traS ┃ J_ECR,assR │ J_ECR,groR │ J_ECR,maiR │ 0    │ J_ECS,rejR │ J_ECR,traR ┃\n",
    "# ┃ENS ┃ J_ENS,assS │ J_ENS,groS │ J_ENS,maiS │ J_ENS,repS │ J_ENS,rejS │ J_ENS,traS ┃ J_ENR,assR │ J_ENR,groR │ J_ENR,maiR │ 0    │ J_ENS,rejR │ J_ENR,traR ┃\n",
    "# ┃ES  ┃ J_ES,assS  │ J_ES,groS  │ J_ES,maiS  │ J_ES,repS  │ 0          │ J_ES,traS  ┃ J_ER,assR  │ J_ER,groR  │ J_ER,maiR  │ 0    │ 0          │ J_ER,traR  ┃\n",
    "# ┗━━━━┻━━━━━━━━━━━━━━━━━━━━━━━━━━━━━━━━━━━━━━━━━━━━━━━━━━━━━━━━━━━━━━━━━━━━━━━━━━━━━┻━━━━━━━━━━━━━━━━━━━━━━━━━━━━━━━━━━━━━━━━━━━━━━━━━━━━━━━━━━━━━━━━━━━━━━━┛"
   ]
  },
  {
   "cell_type": "code",
   "execution_count": 31,
   "metadata": {
    "scrolled": false
   },
   "outputs": [
    {
     "data": {
      "text/plain": [
       "0-element Array{Any,1}"
      ]
     },
     "execution_count": 31,
     "metadata": {},
     "output_type": "execute_result"
    }
   ],
   "source": [
    "\n"
   ]
  },
  {
   "cell_type": "code",
   "execution_count": 25,
   "metadata": {},
   "outputs": [
    {
     "data": {
      "text/plain": [
       "show_display (generic function with 1 method)"
      ]
     },
     "execution_count": 25,
     "metadata": {},
     "output_type": "execute_result"
    }
   ],
   "source": [
    "function show_display(s)\n",
    "  IJulia.clear_output(true) \n",
    "  display(interface) \n",
    "  plot_interactive(params, s)\n",
    "end"
   ]
  },
  {
   "cell_type": "code",
   "execution_count": 28,
   "metadata": {
    "scrolled": false
   },
   "outputs": [
    {
     "data": {
      "text/plain": [
       "DataStructures.OrderedDict{Any,Any} with 6 entries:\n",
       "  :tspan             => (Interact.Slider{Float64}(985: \"tmin_slider\" = 0.0 Floa…\n",
       "  :environment       => DataStructures.OrderedDict{Any,Any}(:soil=>Any[Interact…\n",
       "  :use_environment   => Interact.ToggleButton(673: \"use_environment_toggle\" = t…\n",
       "  :save_intermediate => Interact.ToggleButton(674: \"save_intermediate_toggle\" =…\n",
       "  :timestep_days     => Interact.Slider{Float64}(675: \"timestep_days_slider\" = …\n",
       "  :structures        => (DataStructures.OrderedDict{Any,Any}(:u=>Interact.Slide…"
      ]
     },
     "execution_count": 28,
     "metadata": {},
     "output_type": "execute_result"
    }
   ],
   "source": [
    "signals"
   ]
  },
  {
   "cell_type": "code",
   "execution_count": null,
   "metadata": {},
   "outputs": [],
   "source": []
  }
 ],
 "metadata": {
  "celltoolbar": "Raw Cell Format",
  "kernelspec": {
   "display_name": "Julia 0.6.2",
   "language": "julia",
   "name": "julia-0.6"
  },
  "language_info": {
   "file_extension": ".jl",
   "mimetype": "application/julia",
   "name": "julia",
   "version": "0.6.2"
  }
 },
 "nbformat": 4,
 "nbformat_minor": 2
}
