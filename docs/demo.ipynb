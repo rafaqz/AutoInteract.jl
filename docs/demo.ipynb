{
 "cells": [
  {
   "cell_type": "markdown",
   "metadata": {},
   "source": [
    "# AutoInteract demo\n",
    "\n",
    "Toy interactive plotting and control using an arbitrary data source.\n",
    "\n",
    "Autointeract might not actually save much code or time in this example! It's really built to handle more complicated types, but that would make for a confusing demo."
   ]
  },
  {
   "cell_type": "code",
   "execution_count": null,
   "metadata": {},
   "outputs": [],
   "source": [
    "using AutoInteract\n",
    "using Plots\n",
    "gr()"
   ]
  },
  {
   "cell_type": "markdown",
   "metadata": {},
   "source": [
    "Some data that we can plot and interact with:"
   ]
  },
  {
   "cell_type": "code",
   "execution_count": null,
   "metadata": {},
   "outputs": [],
   "source": [
    "mutable struct TestData\n",
    "    noise1::Array{Float64}\n",
    "    noise2::Array{Float64}\n",
    "    show_sin::Bool\n",
    "    sin_control::Float64\n",
    "    does_nothing::Int\n",
    "end\n",
    "\n",
    "data = TestData(rand(100),rand(100), true, 2.0, 7)"
   ]
  },
  {
   "cell_type": "markdown",
   "metadata": {},
   "source": [
    "Define a method to update and plot data, and anything else you want in the display loop:"
   ]
  },
  {
   "cell_type": "code",
   "execution_count": null,
   "metadata": {},
   "outputs": [],
   "source": [
    "function plotit(data, signals, plot_signals)\n",
    "    plots = []\n",
    "    apply_signals!(data, signals)\n",
    "    plottables = plot_all(data, plot_signals, 1:100)\n",
    "    \n",
    "    if signals[:show_sin] == true\n",
    "        push!(plots, plot(sin.(1.0:0.1:10.0 * signals[:sin_control]), color=:red))\n",
    "    end\n",
    "    if plottables != nothing\n",
    "        push!(plots, plottables)\n",
    "    end\n",
    "    plot(plots...)\n",
    "end"
   ]
  },
  {
   "cell_type": "markdown",
   "metadata": {},
   "source": [
    "Build widgets from data, and remove anything we dont want to display:"
   ]
  },
  {
   "cell_type": "code",
   "execution_count": null,
   "metadata": {},
   "outputs": [],
   "source": [
    "widgets = make_widgets(data)\n",
    "delete!(widgets, :does_nothing)"
   ]
  },
  {
   "cell_type": "markdown",
   "metadata": {},
   "source": [
    "Make toggles for anything that can be plotted:"
   ]
  },
  {
   "cell_type": "code",
   "execution_count": null,
   "metadata": {},
   "outputs": [],
   "source": [
    "plottables = make_plottables(data)"
   ]
  },
  {
   "cell_type": "markdown",
   "metadata": {},
   "source": [
    "Get signals from all widgets and plottable toggles:"
   ]
  },
  {
   "cell_type": "code",
   "execution_count": null,
   "metadata": {},
   "outputs": [],
   "source": [
    "interact_signals = get_signals(widgets)\n",
    "plot_signals = get_signals(plottables)"
   ]
  },
  {
   "cell_type": "markdown",
   "metadata": {},
   "source": [
    "Display interaction widgets and plot toggles, and plot interactives:"
   ]
  },
  {
   "cell_type": "code",
   "execution_count": 17,
   "metadata": {},
   "outputs": [
    {
     "data": {
      "application/vnd.jupyter.widget-view+json": {
       "model_id": "43c2fb93-e6cb-4977-ac5a-d0148b4b9ace",
       "version_major": 2,
       "version_minor": 0
      }
     },
     "metadata": {},
     "output_type": "display_data"
    },
    {
     "data": {
      "text/html": [],
      "text/plain": [
       "Interact.Box(Interact.Layout(Interact.Box(#= circular reference @-2 =#)), true, Interact.Widget[Interact.ToggleButton(18: \"show_sin_toggle\" = true Bool , \"show_sin\", true), Interact.Slider{Float64}(19: \"sin_control_slider\" = 2.0 Float64 , \"sin_control\", 2.0, 0.0:0.04:4.0, \"horizontal\", true, \".3f\", true)])"
      ]
     },
     "metadata": {},
     "output_type": "display_data"
    },
    {
     "data": {
      "application/vnd.jupyter.widget-view+json": {
       "model_id": "8318c4cb-aa27-4fb6-9f90-5ce5e7ce0871",
       "version_major": 2,
       "version_minor": 0
      }
     },
     "metadata": {},
     "output_type": "display_data"
    },
    {
     "data": {
      "text/html": [],
      "text/plain": [
       "Interact.Box(Interact.Layout(Interact.Box(#= circular reference @-2 =#)), true, Interact.Widget[Interact.ToggleButton(23: \"noise1_toggle\" = false Bool , \"noise1\", false), Interact.ToggleButton(24: \"noise2_toggle\" = false Bool , \"noise2\", false)])"
      ]
     },
     "metadata": {},
     "output_type": "display_data"
    },
    {
     "data": {
      "image/svg+xml": [
       "<?xml version=\"1.0\" encoding=\"utf-8\"?>\n",
       "<svg xmlns=\"http://www.w3.org/2000/svg\" xmlns:xlink=\"http://www.w3.org/1999/xlink\" width=\"600\" height=\"400\" viewBox=\"0 0 600 400\">\n",
       "<defs>\n",
       "  <clipPath id=\"clip00\">\n",
       "    <rect x=\"0\" y=\"0\" width=\"600\" height=\"400\"/>\n",
       "  </clipPath>\n",
       "</defs>\n",
       "<polygon clip-path=\"url(#clip5100)\" points=\"\n",
       "0,400 600,400 600,0 0,0 \n",
       "  \" fill=\"#ffffff\" fill-opacity=\"1\"/>\n",
       "<defs>\n",
       "  <clipPath id=\"clip01\">\n",
       "    <rect x=\"120\" y=\"0\" width=\"421\" height=\"400\"/>\n",
       "  </clipPath>\n",
       "</defs>\n",
       "<polygon clip-path=\"url(#clip5100)\" points=\"\n",
       "45.7332,375.813 580.315,375.813 580.315,11.811 45.7332,11.811 \n",
       "  \" fill=\"#ffffff\" fill-opacity=\"1\"/>\n",
       "<defs>\n",
       "  <clipPath id=\"clip02\">\n",
       "    <rect x=\"45\" y=\"11\" width=\"536\" height=\"365\"/>\n",
       "  </clipPath>\n",
       "</defs>\n",
       "<polyline clip-path=\"url(#clip5102)\" style=\"stroke:#000000; stroke-width:0.5; stroke-opacity:0.1; fill:none\" points=\"\n",
       "  113.259,375.813 113.259,11.811 \n",
       "  \"/>\n",
       "<polyline clip-path=\"url(#clip5102)\" style=\"stroke:#000000; stroke-width:0.5; stroke-opacity:0.1; fill:none\" points=\"\n",
       "  183.599,375.813 183.599,11.811 \n",
       "  \"/>\n",
       "<polyline clip-path=\"url(#clip5102)\" style=\"stroke:#000000; stroke-width:0.5; stroke-opacity:0.1; fill:none\" points=\"\n",
       "  253.939,375.813 253.939,11.811 \n",
       "  \"/>\n",
       "<polyline clip-path=\"url(#clip5102)\" style=\"stroke:#000000; stroke-width:0.5; stroke-opacity:0.1; fill:none\" points=\"\n",
       "  324.278,375.813 324.278,11.811 \n",
       "  \"/>\n",
       "<polyline clip-path=\"url(#clip5102)\" style=\"stroke:#000000; stroke-width:0.5; stroke-opacity:0.1; fill:none\" points=\"\n",
       "  394.618,375.813 394.618,11.811 \n",
       "  \"/>\n",
       "<polyline clip-path=\"url(#clip5102)\" style=\"stroke:#000000; stroke-width:0.5; stroke-opacity:0.1; fill:none\" points=\"\n",
       "  464.958,375.813 464.958,11.811 \n",
       "  \"/>\n",
       "<polyline clip-path=\"url(#clip5102)\" style=\"stroke:#000000; stroke-width:0.5; stroke-opacity:0.1; fill:none\" points=\"\n",
       "  535.298,375.813 535.298,11.811 \n",
       "  \"/>\n",
       "<polyline clip-path=\"url(#clip5102)\" style=\"stroke:#000000; stroke-width:0.5; stroke-opacity:0.1; fill:none\" points=\"\n",
       "  45.7332,330.305 580.315,330.305 \n",
       "  \"/>\n",
       "<polyline clip-path=\"url(#clip5102)\" style=\"stroke:#000000; stroke-width:0.5; stroke-opacity:0.1; fill:none\" points=\"\n",
       "  45.7332,284.795 580.315,284.795 \n",
       "  \"/>\n",
       "<polyline clip-path=\"url(#clip5102)\" style=\"stroke:#000000; stroke-width:0.5; stroke-opacity:0.1; fill:none\" points=\"\n",
       "  45.7332,239.285 580.315,239.285 \n",
       "  \"/>\n",
       "<polyline clip-path=\"url(#clip5102)\" style=\"stroke:#000000; stroke-width:0.5; stroke-opacity:0.1; fill:none\" points=\"\n",
       "  45.7332,193.774 580.315,193.774 \n",
       "  \"/>\n",
       "<polyline clip-path=\"url(#clip5102)\" style=\"stroke:#000000; stroke-width:0.5; stroke-opacity:0.1; fill:none\" points=\"\n",
       "  45.7332,148.264 580.315,148.264 \n",
       "  \"/>\n",
       "<polyline clip-path=\"url(#clip5102)\" style=\"stroke:#000000; stroke-width:0.5; stroke-opacity:0.1; fill:none\" points=\"\n",
       "  45.7332,102.754 580.315,102.754 \n",
       "  \"/>\n",
       "<polyline clip-path=\"url(#clip5102)\" style=\"stroke:#000000; stroke-width:0.5; stroke-opacity:0.1; fill:none\" points=\"\n",
       "  45.7332,57.2436 580.315,57.2436 \n",
       "  \"/>\n",
       "<polyline clip-path=\"url(#clip5100)\" style=\"stroke:#000000; stroke-width:1; stroke-opacity:1; fill:none\" points=\"\n",
       "  45.7332,375.813 580.315,375.813 \n",
       "  \"/>\n",
       "<polyline clip-path=\"url(#clip5100)\" style=\"stroke:#000000; stroke-width:1; stroke-opacity:1; fill:none\" points=\"\n",
       "  45.7332,375.813 45.7332,11.811 \n",
       "  \"/>\n",
       "<polyline clip-path=\"url(#clip5100)\" style=\"stroke:#000000; stroke-width:1; stroke-opacity:1; fill:none\" points=\"\n",
       "  113.259,375.813 113.259,370.353 \n",
       "  \"/>\n",
       "<polyline clip-path=\"url(#clip5100)\" style=\"stroke:#000000; stroke-width:1; stroke-opacity:1; fill:none\" points=\"\n",
       "  183.599,375.813 183.599,370.353 \n",
       "  \"/>\n",
       "<polyline clip-path=\"url(#clip5100)\" style=\"stroke:#000000; stroke-width:1; stroke-opacity:1; fill:none\" points=\"\n",
       "  253.939,375.813 253.939,370.353 \n",
       "  \"/>\n",
       "<polyline clip-path=\"url(#clip5100)\" style=\"stroke:#000000; stroke-width:1; stroke-opacity:1; fill:none\" points=\"\n",
       "  324.278,375.813 324.278,370.353 \n",
       "  \"/>\n",
       "<polyline clip-path=\"url(#clip5100)\" style=\"stroke:#000000; stroke-width:1; stroke-opacity:1; fill:none\" points=\"\n",
       "  394.618,375.813 394.618,370.353 \n",
       "  \"/>\n",
       "<polyline clip-path=\"url(#clip5100)\" style=\"stroke:#000000; stroke-width:1; stroke-opacity:1; fill:none\" points=\"\n",
       "  464.958,375.813 464.958,370.353 \n",
       "  \"/>\n",
       "<polyline clip-path=\"url(#clip5100)\" style=\"stroke:#000000; stroke-width:1; stroke-opacity:1; fill:none\" points=\"\n",
       "  535.298,375.813 535.298,370.353 \n",
       "  \"/>\n",
       "<polyline clip-path=\"url(#clip5100)\" style=\"stroke:#000000; stroke-width:1; stroke-opacity:1; fill:none\" points=\"\n",
       "  45.7332,330.305 53.7519,330.305 \n",
       "  \"/>\n",
       "<polyline clip-path=\"url(#clip5100)\" style=\"stroke:#000000; stroke-width:1; stroke-opacity:1; fill:none\" points=\"\n",
       "  45.7332,284.795 53.7519,284.795 \n",
       "  \"/>\n",
       "<polyline clip-path=\"url(#clip5100)\" style=\"stroke:#000000; stroke-width:1; stroke-opacity:1; fill:none\" points=\"\n",
       "  45.7332,239.285 53.7519,239.285 \n",
       "  \"/>\n",
       "<polyline clip-path=\"url(#clip5100)\" style=\"stroke:#000000; stroke-width:1; stroke-opacity:1; fill:none\" points=\"\n",
       "  45.7332,193.774 53.7519,193.774 \n",
       "  \"/>\n",
       "<polyline clip-path=\"url(#clip5100)\" style=\"stroke:#000000; stroke-width:1; stroke-opacity:1; fill:none\" points=\"\n",
       "  45.7332,148.264 53.7519,148.264 \n",
       "  \"/>\n",
       "<polyline clip-path=\"url(#clip5100)\" style=\"stroke:#000000; stroke-width:1; stroke-opacity:1; fill:none\" points=\"\n",
       "  45.7332,102.754 53.7519,102.754 \n",
       "  \"/>\n",
       "<polyline clip-path=\"url(#clip5100)\" style=\"stroke:#000000; stroke-width:1; stroke-opacity:1; fill:none\" points=\"\n",
       "  45.7332,57.2436 53.7519,57.2436 \n",
       "  \"/>\n",
       "<g clip-path=\"url(#clip5100)\">\n",
       "<text style=\"fill:#000000; fill-opacity:1; font-family:Arial,Helvetica Neue,Helvetica,sans-serif; font-size:12; text-anchor:middle;\" transform=\"rotate(0, 113.259, 389.613)\" x=\"113.259\" y=\"389.613\">25</text>\n",
       "</g>\n",
       "<g clip-path=\"url(#clip5100)\">\n",
       "<text style=\"fill:#000000; fill-opacity:1; font-family:Arial,Helvetica Neue,Helvetica,sans-serif; font-size:12; text-anchor:middle;\" transform=\"rotate(0, 183.599, 389.613)\" x=\"183.599\" y=\"389.613\">50</text>\n",
       "</g>\n",
       "<g clip-path=\"url(#clip5100)\">\n",
       "<text style=\"fill:#000000; fill-opacity:1; font-family:Arial,Helvetica Neue,Helvetica,sans-serif; font-size:12; text-anchor:middle;\" transform=\"rotate(0, 253.939, 389.613)\" x=\"253.939\" y=\"389.613\">75</text>\n",
       "</g>\n",
       "<g clip-path=\"url(#clip5100)\">\n",
       "<text style=\"fill:#000000; fill-opacity:1; font-family:Arial,Helvetica Neue,Helvetica,sans-serif; font-size:12; text-anchor:middle;\" transform=\"rotate(0, 324.278, 389.613)\" x=\"324.278\" y=\"389.613\">100</text>\n",
       "</g>\n",
       "<g clip-path=\"url(#clip5100)\">\n",
       "<text style=\"fill:#000000; fill-opacity:1; font-family:Arial,Helvetica Neue,Helvetica,sans-serif; font-size:12; text-anchor:middle;\" transform=\"rotate(0, 394.618, 389.613)\" x=\"394.618\" y=\"389.613\">125</text>\n",
       "</g>\n",
       "<g clip-path=\"url(#clip5100)\">\n",
       "<text style=\"fill:#000000; fill-opacity:1; font-family:Arial,Helvetica Neue,Helvetica,sans-serif; font-size:12; text-anchor:middle;\" transform=\"rotate(0, 464.958, 389.613)\" x=\"464.958\" y=\"389.613\">150</text>\n",
       "</g>\n",
       "<g clip-path=\"url(#clip5100)\">\n",
       "<text style=\"fill:#000000; fill-opacity:1; font-family:Arial,Helvetica Neue,Helvetica,sans-serif; font-size:12; text-anchor:middle;\" transform=\"rotate(0, 535.298, 389.613)\" x=\"535.298\" y=\"389.613\">175</text>\n",
       "</g>\n",
       "<g clip-path=\"url(#clip5100)\">\n",
       "<text style=\"fill:#000000; fill-opacity:1; font-family:Arial,Helvetica Neue,Helvetica,sans-serif; font-size:12; text-anchor:end;\" transform=\"rotate(0, 39.7332, 334.805)\" x=\"39.7332\" y=\"334.805\">-0.75</text>\n",
       "</g>\n",
       "<g clip-path=\"url(#clip5100)\">\n",
       "<text style=\"fill:#000000; fill-opacity:1; font-family:Arial,Helvetica Neue,Helvetica,sans-serif; font-size:12; text-anchor:end;\" transform=\"rotate(0, 39.7332, 289.295)\" x=\"39.7332\" y=\"289.295\">-0.50</text>\n",
       "</g>\n",
       "<g clip-path=\"url(#clip5100)\">\n",
       "<text style=\"fill:#000000; fill-opacity:1; font-family:Arial,Helvetica Neue,Helvetica,sans-serif; font-size:12; text-anchor:end;\" transform=\"rotate(0, 39.7332, 243.785)\" x=\"39.7332\" y=\"243.785\">-0.25</text>\n",
       "</g>\n",
       "<g clip-path=\"url(#clip5100)\">\n",
       "<text style=\"fill:#000000; fill-opacity:1; font-family:Arial,Helvetica Neue,Helvetica,sans-serif; font-size:12; text-anchor:end;\" transform=\"rotate(0, 39.7332, 198.274)\" x=\"39.7332\" y=\"198.274\">0.00</text>\n",
       "</g>\n",
       "<g clip-path=\"url(#clip5100)\">\n",
       "<text style=\"fill:#000000; fill-opacity:1; font-family:Arial,Helvetica Neue,Helvetica,sans-serif; font-size:12; text-anchor:end;\" transform=\"rotate(0, 39.7332, 152.764)\" x=\"39.7332\" y=\"152.764\">0.25</text>\n",
       "</g>\n",
       "<g clip-path=\"url(#clip5100)\">\n",
       "<text style=\"fill:#000000; fill-opacity:1; font-family:Arial,Helvetica Neue,Helvetica,sans-serif; font-size:12; text-anchor:end;\" transform=\"rotate(0, 39.7332, 107.254)\" x=\"39.7332\" y=\"107.254\">0.50</text>\n",
       "</g>\n",
       "<g clip-path=\"url(#clip5100)\">\n",
       "<text style=\"fill:#000000; fill-opacity:1; font-family:Arial,Helvetica Neue,Helvetica,sans-serif; font-size:12; text-anchor:end;\" transform=\"rotate(0, 39.7332, 61.7436)\" x=\"39.7332\" y=\"61.7436\">0.75</text>\n",
       "</g>\n",
       "<polyline clip-path=\"url(#clip5102)\" style=\"stroke:#ff0000; stroke-width:1; stroke-opacity:1; fill:none\" points=\"\n",
       "  45.7332,40.5922 48.5468,31.5381 51.3604,24.1051 54.174,18.3673 56.9876,14.3821 59.8012,12.1894 62.6147,11.811 65.4283,13.2507 68.2419,16.4942 71.0555,21.509 \n",
       "  73.8691,28.245 76.6827,36.6349 79.4963,46.5949 82.3099,58.0255 85.1235,70.8124 87.937,84.8279 90.7506,99.932 93.5642,115.974 96.3778,132.793 99.1914,150.221 \n",
       "  102.005,168.085 104.819,186.205 107.632,204.401 110.446,222.49 113.259,240.293 116.073,257.631 118.887,274.331 121.7,290.226 124.514,305.157 127.327,318.976 \n",
       "  130.141,331.543 132.954,342.734 135.768,352.437 138.582,360.554 141.395,367.005 144.209,371.725 147.022,374.667 149.836,375.801 152.65,375.117 155.463,372.621 \n",
       "  158.277,368.338 161.09,362.31 163.904,354.599 166.718,345.281 169.531,334.449 172.345,322.212 175.158,308.691 177.972,294.022 180.785,278.351 183.599,261.835 \n",
       "  186.413,244.639 189.226,226.935 192.04,208.9 194.853,190.713 197.667,172.558 200.481,154.614 203.294,137.061 206.108,120.075 208.921,103.825 211.735,88.4746 \n",
       "  214.549,74.1759 217.362,61.0721 220.176,49.2943 222.989,38.9601 225.803,30.1727 228.616,23.0199 231.43,17.5733 234.244,13.8873 237.057,11.9986 239.871,11.9261 \n",
       "  242.684,13.6706 245.498,17.2147 248.312,22.5229 251.125,29.5421 253.939,38.2023 256.752,48.417 259.566,60.084 262.38,73.0868 265.193,87.2955 268.007,102.568 \n",
       "  270.82,118.752 273.634,135.685 276.447,153.199 279.261,171.119 282.075,189.264 284.888,207.455 287.702,225.509 290.515,243.246 293.329,260.489 296.143,277.065 \n",
       "  298.956,292.808 301.77,307.563 304.583,321.18 307.397,333.525 310.211,344.473 313.024,353.915 315.838,361.757 318.651,367.921 321.465,372.345 324.278,374.984 \n",
       "  327.092,375.813 329.906,374.824 332.719,372.025 335.533,367.445 338.346,361.13 341.16,353.142 343.974,343.563 346.787,332.487 349.601,320.024 352.414,306.301 \n",
       "  355.228,291.453 358.041,275.629 360.855,258.987 363.669,241.693 366.482,223.921 369.296,205.848 372.109,187.654 374.923,169.521 377.737,151.63 380.55,134.161 \n",
       "  383.364,117.287 386.177,101.177 388.991,85.9927 391.805,71.8852 394.618,58.9956 397.432,47.4527 400.245,37.3717 403.059,28.8535 405.872,21.9831 408.686,16.8292 \n",
       "  411.5,13.4432 414.313,11.8591 417.127,12.0926 419.94,14.1414 422.754,17.9851 425.568,23.5852 428.381,30.8857 431.195,39.8138 434.008,50.2802 436.822,62.1803 \n",
       "  439.636,75.3953 442.449,89.7931 445.263,105.23 448.076,121.551 450.89,138.594 453.703,156.189 456.517,174.159 459.331,192.325 462.144,210.505 464.958,228.518 \n",
       "  467.771,246.185 470.585,263.327 473.399,279.774 476.212,295.363 479.026,309.936 481.839,323.348 484.653,335.466 487.467,346.168 490.28,355.348 493.094,362.913 \n",
       "  495.907,368.788 498.721,372.914 501.534,375.251 504.348,375.774 507.162,374.479 509.975,371.378 512.789,366.503 515.602,359.902 518.416,351.641 521.23,341.802 \n",
       "  524.043,330.485 526.857,317.801 529.67,303.879 532.484,288.856 535.298,272.883 538.111,256.12 540.925,238.734 543.738,220.898 546.552,202.792 549.365,184.595 \n",
       "  552.179,166.491 554.993,148.658 557.806,131.277 560.62,114.52 563.433,98.5549 566.247,83.5413 569.061,69.629 571.874,56.9572 574.688,45.6524 577.501,35.8276 \n",
       "  580.315,27.5809 \n",
       "  \"/>\n",
       "<polygon clip-path=\"url(#clip5100)\" points=\"\n",
       "489.799,62.931 562.315,62.931 562.315,32.691 489.799,32.691 \n",
       "  \" fill=\"#ffffff\" fill-opacity=\"1\"/>\n",
       "<polyline clip-path=\"url(#clip5100)\" style=\"stroke:#000000; stroke-width:1; stroke-opacity:1; fill:none\" points=\"\n",
       "  489.799,62.931 562.315,62.931 562.315,32.691 489.799,32.691 489.799,62.931 \n",
       "  \"/>\n",
       "<polyline clip-path=\"url(#clip5100)\" style=\"stroke:#ff0000; stroke-width:1; stroke-opacity:1; fill:none\" points=\"\n",
       "  495.799,47.811 531.799,47.811 \n",
       "  \"/>\n",
       "<g clip-path=\"url(#clip5100)\">\n",
       "<text style=\"fill:#000000; fill-opacity:1; font-family:Arial,Helvetica Neue,Helvetica,sans-serif; font-size:12; text-anchor:start;\" transform=\"rotate(0, 537.799, 52.311)\" x=\"537.799\" y=\"52.311\">y1</text>\n",
       "</g>\n",
       "</svg>\n"
      ]
     },
     "execution_count": 17,
     "metadata": {
      "comm_id": "c31f0895-271f-44aa-b069-bcd36963082b",
      "reactive": true
     },
     "output_type": "execute_result"
    }
   ],
   "source": [
    "display(make_interface(widgets))\n",
    "display(make_interface(plottables))\n",
    "\n",
    "map((sw, sp) -> plotit(data, sw, sp), interact_signals, plot_signals)"
   ]
  },
  {
   "cell_type": "code",
   "execution_count": null,
   "metadata": {},
   "outputs": [],
   "source": []
  },
  {
   "cell_type": "code",
   "execution_count": null,
   "metadata": {},
   "outputs": [],
   "source": []
  }
 ],
 "metadata": {
  "kernelspec": {
   "display_name": "Julia 0.6.2",
   "language": "julia",
   "name": "julia-0.6"
  },
  "language_info": {
   "file_extension": ".jl",
   "mimetype": "application/julia",
   "name": "julia",
   "version": "0.6.2"
  }
 },
 "nbformat": 4,
 "nbformat_minor": 2
}
